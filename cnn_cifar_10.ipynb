{
  "nbformat": 4,
  "nbformat_minor": 0,
  "metadata": {
    "colab": {
      "provenance": [],
      "gpuType": "T4",
      "authorship_tag": "ABX9TyP/0cR83qqHQPXttypZ33w5",
      "include_colab_link": true
    },
    "kernelspec": {
      "name": "python3",
      "display_name": "Python 3"
    },
    "language_info": {
      "name": "python"
    },
    "accelerator": "GPU"
  },
  "cells": [
    {
      "cell_type": "markdown",
      "metadata": {
        "id": "view-in-github",
        "colab_type": "text"
      },
      "source": [
        "<a href=\"https://colab.research.google.com/github/ANINDASAU/CNN-cifar-10/blob/main/cnn_cifar_10.ipynb\" target=\"_parent\"><img src=\"https://colab.research.google.com/assets/colab-badge.svg\" alt=\"Open In Colab\"/></a>"
      ]
    },
    {
      "cell_type": "code",
      "execution_count": 2,
      "metadata": {
        "id": "8aPxRE6skt2E"
      },
      "outputs": [],
      "source": [
        "import torch\n",
        "import torchvision\n",
        "import torchvision.transforms as transforms\n",
        "import numpy as np\n",
        "import matplotlib.pyplot as plot\n",
        "import torch.nn as nn\n",
        "import torch.nn.functional as F\n",
        "import torch.optim as optim"
      ]
    },
    {
      "cell_type": "code",
      "source": [
        "##Download and load data\n",
        "#Tranformation Function\n",
        "transform = transforms.Compose([transforms.ToTensor(),transforms.Normalize((0.5,0.5,0.5),(0.5,0.5,0.5))])"
      ],
      "metadata": {
        "id": "M2CWELeqmsL6"
      },
      "execution_count": 3,
      "outputs": []
    },
    {
      "cell_type": "code",
      "source": [
        "#Download and transform train and test dataset\n",
        "train_dataset = torchvision.datasets.CIFAR10(root='./',train=True,download=True,transform=transform)\n",
        "test_dataset = torchvision.datasets.CIFAR10(root='./',train=False,download=True,transform=transform)"
      ],
      "metadata": {
        "colab": {
          "base_uri": "https://localhost:8080/"
        },
        "id": "Rg_YGXD5o0Pp",
        "outputId": "5f110317-107d-4adc-d8d1-5e170b389444"
      },
      "execution_count": 4,
      "outputs": [
        {
          "output_type": "stream",
          "name": "stderr",
          "text": [
            "100%|██████████| 170M/170M [00:04<00:00, 39.9MB/s]\n"
          ]
        }
      ]
    },
    {
      "cell_type": "code",
      "source": [
        "!ls"
      ],
      "metadata": {
        "colab": {
          "base_uri": "https://localhost:8080/"
        },
        "id": "0wBirKr8o0X3",
        "outputId": "5b9375d4-d74d-4504-9526-6979bbc3b15f"
      },
      "execution_count": 5,
      "outputs": [
        {
          "output_type": "stream",
          "name": "stdout",
          "text": [
            "cifar-10-batches-py  cifar-10-python.tar.gz  sample_data\n"
          ]
        }
      ]
    },
    {
      "cell_type": "code",
      "source": [
        "train_dataset"
      ],
      "metadata": {
        "colab": {
          "base_uri": "https://localhost:8080/"
        },
        "id": "4R1DpPhgpzYG",
        "outputId": "8cb0757d-ca4e-41fe-d24a-d1b437991c88"
      },
      "execution_count": 6,
      "outputs": [
        {
          "output_type": "execute_result",
          "data": {
            "text/plain": [
              "Dataset CIFAR10\n",
              "    Number of datapoints: 50000\n",
              "    Root location: ./\n",
              "    Split: Train\n",
              "    StandardTransform\n",
              "Transform: Compose(\n",
              "               ToTensor()\n",
              "               Normalize(mean=(0.5, 0.5, 0.5), std=(0.5, 0.5, 0.5))\n",
              "           )"
            ]
          },
          "metadata": {},
          "execution_count": 6
        }
      ]
    },
    {
      "cell_type": "code",
      "source": [
        "test_dataset"
      ],
      "metadata": {
        "colab": {
          "base_uri": "https://localhost:8080/"
        },
        "id": "GCw5VCJmp2RU",
        "outputId": "7926fe38-1aa2-49a6-f6d6-8a6a78621c68"
      },
      "execution_count": 7,
      "outputs": [
        {
          "output_type": "execute_result",
          "data": {
            "text/plain": [
              "Dataset CIFAR10\n",
              "    Number of datapoints: 10000\n",
              "    Root location: ./\n",
              "    Split: Test\n",
              "    StandardTransform\n",
              "Transform: Compose(\n",
              "               ToTensor()\n",
              "               Normalize(mean=(0.5, 0.5, 0.5), std=(0.5, 0.5, 0.5))\n",
              "           )"
            ]
          },
          "metadata": {},
          "execution_count": 7
        }
      ]
    },
    {
      "cell_type": "code",
      "source": [
        "#Create Dataloader for train and test dataset\n",
        "train_dataloader = torch.utils.data.DataLoader(train_dataset,batch_size=4,shuffle=True,num_workers=2)\n",
        "test_dataloader = torch.utils.data.DataLoader(test_dataset,batch_size=4,shuffle=False,num_workers=2)"
      ],
      "metadata": {
        "id": "LxoZAWsYo0iR"
      },
      "execution_count": 8,
      "outputs": []
    },
    {
      "cell_type": "code",
      "source": [
        "classes = ['airplane','automobile','bird','cat','deer','dog','frog','horse','ship','truck']"
      ],
      "metadata": {
        "id": "fuV9ifpfqnl1"
      },
      "execution_count": 9,
      "outputs": []
    },
    {
      "cell_type": "code",
      "source": [
        "#view some training images\n",
        "def imshow(img):\n",
        "    img = img/2 + 0.5\n",
        "    np_img =img.numpy()\n",
        "    plot.imshow(np.transpose(np_img,(1,2,0)))"
      ],
      "metadata": {
        "id": "2ohafhMPo0qP"
      },
      "execution_count": 10,
      "outputs": []
    },
    {
      "cell_type": "code",
      "source": [
        "# show the image\n",
        "train_iter = iter(train_dataloader)\n",
        "images, labels = next(train_iter)  # use next() function\n",
        "print(images.shape)\n",
        "print(labels.shape)\n",
        "imshow(torchvision.utils.make_grid(images))"
      ],
      "metadata": {
        "colab": {
          "base_uri": "https://localhost:8080/",
          "height": 228
        },
        "id": "B7G-mh-FrUlj",
        "outputId": "e715102d-75d0-4b7f-dd30-4f1a2b188290"
      },
      "execution_count": 11,
      "outputs": [
        {
          "output_type": "stream",
          "name": "stdout",
          "text": [
            "torch.Size([4, 3, 32, 32])\n",
            "torch.Size([4])\n"
          ]
        },
        {
          "output_type": "display_data",
          "data": {
            "text/plain": [
              "<Figure size 640x480 with 1 Axes>"
            ],
            "image/png": "[encoded data removed]"
          },
          "metadata": {}
        }
      ]
    },
    {
      "cell_type": "code",
      "source": [],
      "metadata": {
        "id": "NKrWi6zZtWS6"
      },
      "execution_count": 11,
      "outputs": []
    },
    {
      "cell_type": "code",
      "source": [
        "##DEFINE NEURAL NETWORK\n",
        "class ImageClassifierNeuralNetwork(nn.Module):\n",
        "  def __init__(self):\n",
        "    super(ImageClassifierNeuralNetwork, self).__init__()\n",
        "    self.conv_1 = nn.Conv2d(3,6,5)\n",
        "    self.pool = nn.MaxPool2d(2,2)\n",
        "    self.conv_2 = nn.Conv2d(6,16,5)\n",
        "    self.fc_1 = nn.Linear(16*5*5,120)\n",
        "    self.fc_2 = nn.Linear(120,80)\n",
        "    self.fc_3 = nn.Linear(80,10)\n",
        "\n",
        "  def forward(self,x):\n",
        "    x = self.pool(F.relu(self.conv_1(x)))\n",
        "    x = self.pool(F.relu(self.conv_2(x)))\n",
        "    x =x.view(-1, 16*5*5)\n",
        "    x = F.relu(self.fc_1(x))\n",
        "    x = F.relu(self.fc_2(x))\n",
        "    x = self.fc_3(x)\n",
        "    return x\n"
      ],
      "metadata": {
        "id": "ir_x_CIsk2VO"
      },
      "execution_count": 12,
      "outputs": []
    },
    {
      "cell_type": "code",
      "source": [
        "ICNet = ImageClassifierNeuralNetwork()"
      ],
      "metadata": {
        "id": "gKVqWzsOmq_c"
      },
      "execution_count": 16,
      "outputs": []
    },
    {
      "cell_type": "code",
      "source": [
        "##DEFINE LOSS FUNCTION\n",
        "criterion = nn.CrossEntropyLoss()\n",
        "##Create an Optimizer\n",
        "optimizer = optim.SGD(ICNet.parameters(),lr=0.001,momentum=0.9)"
      ],
      "metadata": {
        "id": "c_Jjq43Ck6yS"
      },
      "execution_count": 17,
      "outputs": []
    },
    {
      "cell_type": "code",
      "source": [
        "##TRAIN THE NEURAL NETWORK ON THE TRAINING IMAGES\n",
        "for epoch in range(4):\n",
        "  running_loss = 0.0\n",
        "\n",
        "  for i, train_data in enumerate(train_dataloader,0):\n",
        "    #get the input image\n",
        "    inputs, labels = train_data\n",
        "    #set the optimizer gradient to zero\n",
        "    optimizer.zero_grad()\n",
        "\n",
        "    outputs = ICNet(inputs)\n",
        "    loss = criterion(outputs,labels)\n",
        "    loss.backward()\n",
        "    optimizer.step()\n",
        "\n",
        "    running_loss += loss.item()\n",
        "\n",
        "    if i % 500 == 499:\n",
        "      print(epoch + 1, i+1, running_loss/500)\n",
        "      running_loss = 0.0\n",
        "\n",
        "print('Training is Finished')"
      ],
      "metadata": {
        "colab": {
          "base_uri": "https://localhost:8080/"
        },
        "id": "xKxYCM6ck9wZ",
        "outputId": "7f229cf5-f119-411e-a6c4-13415462f339"
      },
      "execution_count": 19,
      "outputs": [
        {
          "output_type": "stream",
          "name": "stdout",
          "text": [
            "1 500 1.2908792642951012\n",
            "1 1000 1.289671213299036\n",
            "1 1500 1.3170989697277546\n",
            "1 2000 1.318018128633499\n",
            "1 2500 1.2886037374436856\n",
            "1 3000 1.3268882399201394\n",
            "1 3500 1.3121625988185406\n",
            "1 4000 1.2890939778983592\n",
            "1 4500 1.2858432045280934\n",
            "1 5000 1.3075065556168557\n",
            "1 5500 1.294483753979206\n",
            "1 6000 1.2599884050786496\n",
            "1 6500 1.246419492214918\n",
            "1 7000 1.3009786077737808\n",
            "1 7500 1.244100422874093\n",
            "1 8000 1.2580726858973503\n",
            "1 8500 1.2485743701756\n",
            "1 9000 1.2555691506266593\n",
            "1 9500 1.25195781904459\n",
            "1 10000 1.2608882433474065\n",
            "1 10500 1.2477638816833496\n",
            "1 11000 1.2214638872146606\n",
            "1 11500 1.2125288788080215\n",
            "1 12000 1.219769735351205\n",
            "1 12500 1.235040059477091\n",
            "2 500 1.172287428662181\n",
            "2 1000 1.1932338234782218\n",
            "2 1500 1.1303372411131858\n",
            "2 2000 1.1544332750737667\n",
            "2 2500 1.2090975765287877\n",
            "2 3000 1.1519069732576608\n",
            "2 3500 1.1417114474475383\n",
            "2 4000 1.1441315642744303\n",
            "2 4500 1.1677707970738411\n",
            "2 5000 1.1427033969461917\n",
            "2 5500 1.1702660956978799\n",
            "2 6000 1.2056238340735435\n",
            "2 6500 1.1805024268329143\n",
            "2 7000 1.1911427098810672\n",
            "2 7500 1.1642985761761666\n",
            "2 8000 1.180167364180088\n",
            "2 8500 1.1835477041602134\n",
            "2 9000 1.1999549913182854\n",
            "2 9500 1.1397706871330737\n",
            "2 10000 1.1291951847970485\n",
            "2 10500 1.1514242426455021\n",
            "2 11000 1.14242278906703\n",
            "2 11500 1.109071137547493\n",
            "2 12000 1.15071847512573\n",
            "2 12500 1.171885200574994\n",
            "3 500 1.063956194832921\n",
            "3 1000 1.0587712360471486\n",
            "3 1500 1.1060999494194985\n",
            "3 2000 1.0439192714542151\n",
            "3 2500 1.0838627848029136\n",
            "3 3000 1.0827041650563478\n",
            "3 3500 1.10521194177866\n",
            "3 4000 1.096724757477641\n",
            "3 4500 1.1093024531304836\n",
            "3 5000 1.0746923448815942\n",
            "3 5500 1.0942607485800981\n",
            "3 6000 1.0726064586788415\n",
            "3 6500 1.073476625725627\n",
            "3 7000 1.0468666054159403\n",
            "3 7500 1.059599303342402\n",
            "3 8000 1.0518252889160067\n",
            "3 8500 1.0903111645579338\n",
            "3 9000 1.0799049418866635\n",
            "3 9500 1.1274627650976181\n",
            "3 10000 1.0692425749599934\n",
            "3 10500 1.0500139950215817\n",
            "3 11000 1.1363160526454448\n",
            "3 11500 1.0329833929389716\n",
            "3 12000 1.065023549862206\n",
            "3 12500 1.0574323908537626\n",
            "4 500 0.9759229513332248\n",
            "4 1000 0.948748311161995\n",
            "4 1500 1.0439699479565023\n",
            "4 2000 0.994284067004919\n",
            "4 2500 0.9720168811194598\n",
            "4 3000 1.0548104284629225\n",
            "4 3500 0.9586800380945205\n",
            "4 4000 1.0252502094134688\n",
            "4 4500 1.0160360310673713\n",
            "4 5000 1.0391242518499493\n",
            "4 5500 1.0280368294417859\n",
            "4 6000 1.037364798388444\n",
            "4 6500 1.0270505746155978\n",
            "4 7000 0.9854237701520324\n",
            "4 7500 0.9763588962033392\n",
            "4 8000 1.0436120368391275\n",
            "4 8500 1.0187097559273244\n",
            "4 9000 1.008127091795206\n",
            "4 9500 1.009110789486207\n",
            "4 10000 1.0278264849707484\n",
            "4 10500 1.0214131297916174\n",
            "4 11000 1.0217680497393011\n",
            "4 11500 1.0548162367492915\n",
            "4 12000 0.972791263230145\n",
            "4 12500 1.0330420472174884\n",
            "Training is Finished\n"
          ]
        }
      ]
    },
    {
      "cell_type": "code",
      "source": [
        "##TEST THE NEURAL NETWORK ON THE TEST IMAGES\n",
        "train_iter = iter(train_dataloader)"
      ],
      "metadata": {
        "id": "NeNjUeiQlGlh"
      },
      "execution_count": 20,
      "outputs": []
    },
    {
      "cell_type": "code",
      "source": [
        "images, labels = next(train_iter)"
      ],
      "metadata": {
        "id": "YuDbRI8jlKG9"
      },
      "execution_count": 22,
      "outputs": []
    },
    {
      "cell_type": "code",
      "source": [
        "labels.shape"
      ],
      "metadata": {
        "colab": {
          "base_uri": "https://localhost:8080/"
        },
        "id": "_M9b50OFXFN0",
        "outputId": "ec99a630-b716-4e54-c063-1301bc2a20d1"
      },
      "execution_count": 23,
      "outputs": [
        {
          "output_type": "execute_result",
          "data": {
            "text/plain": [
              "torch.Size([4])"
            ]
          },
          "metadata": {},
          "execution_count": 23
        }
      ]
    },
    {
      "cell_type": "code",
      "source": [
        "imshow(torchvision.utils.make_grid(images))"
      ],
      "metadata": {
        "colab": {
          "base_uri": "https://localhost:8080/",
          "height": 193
        },
        "id": "taI4JpXrXLpD",
        "outputId": "e2a91671-9d33-4ab0-a374-ae4541356742"
      },
      "execution_count": 24,
      "outputs": [
        {
          "output_type": "display_data",
          "data": {
            "text/plain": [
              "<Figure size 640x480 with 1 Axes>"
            ],
            "image/png": "[encoded data removed]"
          },
          "metadata": {}
        }
      ]
    },
    {
      "cell_type": "code",
      "source": [
        "print(' '.join(classes[labels[i]] for i in range(4)))"
      ],
      "metadata": {
        "colab": {
          "base_uri": "https://localhost:8080/"
        },
        "id": "7rXYZSbMXS0z",
        "outputId": "ae35051a-0b5f-4fea-e9fc-7227199b2a35"
      },
      "execution_count": 25,
      "outputs": [
        {
          "output_type": "stream",
          "name": "stdout",
          "text": [
            "ship airplane airplane automobile\n"
          ]
        }
      ]
    },
    {
      "cell_type": "code",
      "source": [
        "outputs = ICNet(images)"
      ],
      "metadata": {
        "id": "sr5z0twqXenu"
      },
      "execution_count": 26,
      "outputs": []
    },
    {
      "cell_type": "code",
      "source": [
        "outputs.shape"
      ],
      "metadata": {
        "colab": {
          "base_uri": "https://localhost:8080/"
        },
        "id": "hmXFLRNqXi_r",
        "outputId": "c742badb-8aa4-4cc3-ff69-5e222fcc2f19"
      },
      "execution_count": 28,
      "outputs": [
        {
          "output_type": "execute_result",
          "data": {
            "text/plain": [
              "torch.Size([4, 10])"
            ]
          },
          "metadata": {},
          "execution_count": 28
        }
      ]
    },
    {
      "cell_type": "code",
      "source": [
        "_, predicted_output = torch.max(outputs, 1)"
      ],
      "metadata": {
        "id": "48-YkVnUXkYH"
      },
      "execution_count": 29,
      "outputs": []
    },
    {
      "cell_type": "code",
      "source": [
        "print(' '.join(classes[predicted_output[i]] for i in range(4)))"
      ],
      "metadata": {
        "colab": {
          "base_uri": "https://localhost:8080/"
        },
        "id": "PxuOrRjnYFxj",
        "outputId": "cb342562-43d6-498a-c963-14a05c11ecd1"
      },
      "execution_count": 30,
      "outputs": [
        {
          "output_type": "stream",
          "name": "stdout",
          "text": [
            "ship bird airplane automobile\n"
          ]
        }
      ]
    },
    {
      "cell_type": "code",
      "source": [
        "correct = 0\n",
        "total = 0\n",
        "\n",
        "with torch.no_grad():\n",
        "  for test_data in test_dataloader:\n",
        "    test_images, test_labels = test_data\n",
        "    test_predictions = ICNet(test_images)\n",
        "    _ , predicted_output = torch.max(test_predictions.data,1)\n",
        "    total += test_labels.size(0)\n",
        "    correct += (predicted_output == test_labels).sum().item()\n",
        "\n",
        "accuracy =100 * correct/total\n",
        "print(accuracy)"
      ],
      "metadata": {
        "colab": {
          "base_uri": "https://localhost:8080/"
        },
        "id": "1kFCteitYMK_",
        "outputId": "bf29e86c-f3e9-465b-bafd-5b3deeb05383"
      },
      "execution_count": 31,
      "outputs": [
        {
          "output_type": "stream",
          "name": "stdout",
          "text": [
            "62.56\n"
          ]
        }
      ]
    },
    {
      "cell_type": "code",
      "source": [],
      "metadata": {
        "id": "GQUXHz9yZUaX"
      },
      "execution_count": null,
      "outputs": []
    }
  ]
}